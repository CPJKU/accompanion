{
 "cells": [
  {
   "cell_type": "markdown",
   "source": [
    "## Visualizing Experimental Results"
   ],
   "metadata": {
    "collapsed": false
   }
  },
  {
   "cell_type": "code",
   "execution_count": 1,
   "metadata": {
    "collapsed": true
   },
   "outputs": [],
   "source": [
    "import pandas as pd\n",
    "import os"
   ]
  },
  {
   "cell_type": "code",
   "execution_count": 2,
   "outputs": [
    {
     "data": {
      "text/plain": "             Piece  Avg Time Delay  Right Note Ratio  Played Notes  \\\n0    brahms_carlos        0.618422          0.201247          1123   \n1      chopin_op60        1.212495          0.260978          4395   \n2    brahms_carlos        0.650345          0.192032          1255   \n3  chopin_op09_No2        2.244669          0.283876          1321   \n4  chopin_op15_No2        2.525406          0.549708           342   \n\n   Matched Notes  Score Notes  \n0            226         2077  \n1           1147         4378  \n2            241         2077  \n3            375         1246  \n4            188         1136  ",
      "text/html": "<div>\n<style scoped>\n    .dataframe tbody tr th:only-of-type {\n        vertical-align: middle;\n    }\n\n    .dataframe tbody tr th {\n        vertical-align: top;\n    }\n\n    .dataframe thead th {\n        text-align: right;\n    }\n</style>\n<table border=\"1\" class=\"dataframe\">\n  <thead>\n    <tr style=\"text-align: right;\">\n      <th></th>\n      <th>Piece</th>\n      <th>Avg Time Delay</th>\n      <th>Right Note Ratio</th>\n      <th>Played Notes</th>\n      <th>Matched Notes</th>\n      <th>Score Notes</th>\n    </tr>\n  </thead>\n  <tbody>\n    <tr>\n      <th>0</th>\n      <td>brahms_carlos</td>\n      <td>0.618422</td>\n      <td>0.201247</td>\n      <td>1123</td>\n      <td>226</td>\n      <td>2077</td>\n    </tr>\n    <tr>\n      <th>1</th>\n      <td>chopin_op60</td>\n      <td>1.212495</td>\n      <td>0.260978</td>\n      <td>4395</td>\n      <td>1147</td>\n      <td>4378</td>\n    </tr>\n    <tr>\n      <th>2</th>\n      <td>brahms_carlos</td>\n      <td>0.650345</td>\n      <td>0.192032</td>\n      <td>1255</td>\n      <td>241</td>\n      <td>2077</td>\n    </tr>\n    <tr>\n      <th>3</th>\n      <td>chopin_op09_No2</td>\n      <td>2.244669</td>\n      <td>0.283876</td>\n      <td>1321</td>\n      <td>375</td>\n      <td>1246</td>\n    </tr>\n    <tr>\n      <th>4</th>\n      <td>chopin_op15_No2</td>\n      <td>2.525406</td>\n      <td>0.549708</td>\n      <td>342</td>\n      <td>188</td>\n      <td>1136</td>\n    </tr>\n  </tbody>\n</table>\n</div>"
     },
     "execution_count": 2,
     "metadata": {},
     "output_type": "execute_result"
    }
   ],
   "source": [
    "path = os.path.join(os.getcwd(), \"artifacts\", \"results.csv\")\n",
    "df = pd.read_csv(path, sep=\",\")\n",
    "df.head()"
   ],
   "metadata": {
    "collapsed": false
   }
  },
  {
   "cell_type": "markdown",
   "source": [
    "## Exploring MIDI Degradation"
   ],
   "metadata": {
    "collapsed": false
   }
  },
  {
   "cell_type": "code",
   "execution_count": 35,
   "outputs": [],
   "source": [
    "import pandas as pd\n",
    "import numpy as np\n",
    "import partitura as pt\n",
    "from numpy.lib.recfunctions import unstructured_to_structured\n",
    "from mdtk.degradations import (\n",
    "    pitch_shift,\n",
    "    time_shift,\n",
    "    onset_shift,\n",
    "    offset_shift,\n",
    "    remove_note,\n",
    "    add_note,\n",
    ")"
   ],
   "metadata": {
    "collapsed": false
   }
  },
  {
   "cell_type": "code",
   "execution_count": 36,
   "outputs": [
    {
     "data": {
      "text/plain": "   onset_sec  duration_sec  onset_tick  duration_tick  pitch  velocity  track  \\\n0      0.125         0.125           2              2     60        64      0   \n1      0.250         0.125           4              2     62        64      0   \n2      0.375         0.125           6              2     64        64      0   \n3      0.500         0.125           8              2     65        64      0   \n4      0.625         0.125          10              2     62        64      0   \n\n   channel      id  \n0        1  P00_n0  \n1        1  P00_n1  \n2        1  P00_n2  \n3        1  P00_n3  \n4        1  P00_n4  ",
      "text/html": "<div>\n<style scoped>\n    .dataframe tbody tr th:only-of-type {\n        vertical-align: middle;\n    }\n\n    .dataframe tbody tr th {\n        vertical-align: top;\n    }\n\n    .dataframe thead th {\n        text-align: right;\n    }\n</style>\n<table border=\"1\" class=\"dataframe\">\n  <thead>\n    <tr style=\"text-align: right;\">\n      <th></th>\n      <th>onset_sec</th>\n      <th>duration_sec</th>\n      <th>onset_tick</th>\n      <th>duration_tick</th>\n      <th>pitch</th>\n      <th>velocity</th>\n      <th>track</th>\n      <th>channel</th>\n      <th>id</th>\n    </tr>\n  </thead>\n  <tbody>\n    <tr>\n      <th>0</th>\n      <td>0.125</td>\n      <td>0.125</td>\n      <td>2</td>\n      <td>2</td>\n      <td>60</td>\n      <td>64</td>\n      <td>0</td>\n      <td>1</td>\n      <td>P00_n0</td>\n    </tr>\n    <tr>\n      <th>1</th>\n      <td>0.250</td>\n      <td>0.125</td>\n      <td>4</td>\n      <td>2</td>\n      <td>62</td>\n      <td>64</td>\n      <td>0</td>\n      <td>1</td>\n      <td>P00_n1</td>\n    </tr>\n    <tr>\n      <th>2</th>\n      <td>0.375</td>\n      <td>0.125</td>\n      <td>6</td>\n      <td>2</td>\n      <td>64</td>\n      <td>64</td>\n      <td>0</td>\n      <td>1</td>\n      <td>P00_n2</td>\n    </tr>\n    <tr>\n      <th>3</th>\n      <td>0.500</td>\n      <td>0.125</td>\n      <td>8</td>\n      <td>2</td>\n      <td>65</td>\n      <td>64</td>\n      <td>0</td>\n      <td>1</td>\n      <td>P00_n3</td>\n    </tr>\n    <tr>\n      <th>4</th>\n      <td>0.625</td>\n      <td>0.125</td>\n      <td>10</td>\n      <td>2</td>\n      <td>62</td>\n      <td>64</td>\n      <td>0</td>\n      <td>1</td>\n      <td>P00_n4</td>\n    </tr>\n  </tbody>\n</table>\n</div>"
     },
     "execution_count": 36,
     "metadata": {},
     "output_type": "execute_result"
    }
   ],
   "source": [
    "performance = pt.load_performance(\"/home/manos/Desktop/JKU/data/midi/inventions/BachJS-BWV772.mid\")\n",
    "note_array = performance.note_array()\n",
    "ppq = performance[0].ppq\n",
    "mpq = performance[0].mpq\n",
    "odf = pd.DataFrame(note_array)\n",
    "odf.head()"
   ],
   "metadata": {
    "collapsed": false
   }
  },
  {
   "cell_type": "code",
   "execution_count": 37,
   "outputs": [],
   "source": [
    "df = pd.DataFrame(\n",
    "    {\n",
    "        \"onset\": note_array[\"onset_tick\"],\n",
    "        \"pitch\": note_array[\"pitch\"],\n",
    "        \"dur\": note_array[\"duration_tick\"],\n",
    "        \"velocity\": note_array[\"velocity\"],\n",
    "        \"track\": note_array[\"track\"]\n",
    "    }\n",
    ")\n",
    "df.head()\n",
    "\n",
    "\n",
    "min_pitch = 36  # cant shift lower than 60\n",
    "max_pitch = 110\n",
    "distribution = [1, 0, 1, 0, 1, 0, 1]  # only shift min 2nd or maj 3rd up/down"
   ],
   "metadata": {
    "collapsed": false
   }
  },
  {
   "cell_type": "code",
   "execution_count": 43,
   "outputs": [
    {
     "data": {
      "text/plain": "   onset  track  pitch  dur  velocity      id  channel  onset_sec  \\\n0      2      0     60    2        64  P00_n0        1      0.125   \n1      4      0     62    2        64  P00_n1        1      0.250   \n2      6      0     64    2        64  P00_n2        1      0.375   \n3      8      0     65    2        64  P00_n3        1      0.500   \n4     10      0     62    2        64  P00_n4        1      0.625   \n\n   duration_sec  \n0         0.125  \n1         0.125  \n2         0.125  \n3         0.125  \n4         0.125  ",
      "text/html": "<div>\n<style scoped>\n    .dataframe tbody tr th:only-of-type {\n        vertical-align: middle;\n    }\n\n    .dataframe tbody tr th {\n        vertical-align: top;\n    }\n\n    .dataframe thead th {\n        text-align: right;\n    }\n</style>\n<table border=\"1\" class=\"dataframe\">\n  <thead>\n    <tr style=\"text-align: right;\">\n      <th></th>\n      <th>onset</th>\n      <th>track</th>\n      <th>pitch</th>\n      <th>dur</th>\n      <th>velocity</th>\n      <th>id</th>\n      <th>channel</th>\n      <th>onset_sec</th>\n      <th>duration_sec</th>\n    </tr>\n  </thead>\n  <tbody>\n    <tr>\n      <th>0</th>\n      <td>2</td>\n      <td>0</td>\n      <td>60</td>\n      <td>2</td>\n      <td>64</td>\n      <td>P00_n0</td>\n      <td>1</td>\n      <td>0.125</td>\n      <td>0.125</td>\n    </tr>\n    <tr>\n      <th>1</th>\n      <td>4</td>\n      <td>0</td>\n      <td>62</td>\n      <td>2</td>\n      <td>64</td>\n      <td>P00_n1</td>\n      <td>1</td>\n      <td>0.250</td>\n      <td>0.125</td>\n    </tr>\n    <tr>\n      <th>2</th>\n      <td>6</td>\n      <td>0</td>\n      <td>64</td>\n      <td>2</td>\n      <td>64</td>\n      <td>P00_n2</td>\n      <td>1</td>\n      <td>0.375</td>\n      <td>0.125</td>\n    </tr>\n    <tr>\n      <th>3</th>\n      <td>8</td>\n      <td>0</td>\n      <td>65</td>\n      <td>2</td>\n      <td>64</td>\n      <td>P00_n3</td>\n      <td>1</td>\n      <td>0.500</td>\n      <td>0.125</td>\n    </tr>\n    <tr>\n      <th>4</th>\n      <td>10</td>\n      <td>0</td>\n      <td>62</td>\n      <td>2</td>\n      <td>64</td>\n      <td>P00_n4</td>\n      <td>1</td>\n      <td>0.625</td>\n      <td>0.125</td>\n    </tr>\n  </tbody>\n</table>\n</div>"
     },
     "execution_count": 43,
     "metadata": {},
     "output_type": "execute_result"
    }
   ],
   "source": [
    "deg_excerpt_1 = pitch_shift(\n",
    "    df,\n",
    "    min_pitch=min_pitch,\n",
    "    max_pitch=max_pitch,\n",
    "    distribution=distribution,\n",
    "    seed=42\n",
    ")\n",
    "deg_excerpt_1[\"id\"] = odf[\"id\"]\n",
    "deg_excerpt_1[\"channel\"] = odf[\"channel\"]\n",
    "deg_excerpt_1[\"onset_sec\"] = pt.utils.music.midi_ticks_to_seconds(deg_excerpt_1[\"onset\"].to_numpy(), mpq=mpq, ppq=ppq)\n",
    "deg_excerpt_1[\"duration_sec\"] = pt.utils.music.midi_ticks_to_seconds(deg_excerpt_1[\"dur\"].to_numpy(), mpq=mpq, ppq=ppq)\n",
    "deg_excerpt_1.head()"
   ],
   "metadata": {
    "collapsed": false
   }
  },
  {
   "cell_type": "code",
   "execution_count": 32,
   "outputs": [
    {
     "data": {
      "text/plain": "array([( 2, 0, 60, 2, 64, 'P00_n0', 1), ( 4, 0, 62, 2, 64, 'P00_n1', 1),\n       ( 6, 0, 64, 2, 64, 'P00_n2', 1), ( 8, 0, 65, 2, 64, 'P00_n3', 1),\n       (10, 0, 62, 2, 64, 'P00_n4', 1), (12, 0, 64, 2, 64, 'P00_n5', 1),\n       (14, 0, 60, 2, 64, 'P00_n6', 1), (16, 0, 67, 4, 64, 'P00_n7', 1),\n       (18, 1, 48, 2, 64, 'P01_n0', 1), (20, 0, 72, 4, 64, 'P01_n1', 1)],\n      dtype=[('onset', '<i8'), ('track', '<i8'), ('pitch', '<i8'), ('dur', '<i8'), ('velocity', '<i8'), ('id', 'O'), ('channel', '<i4')])"
     },
     "execution_count": 32,
     "metadata": {},
     "output_type": "execute_result"
    }
   ],
   "source": [],
   "metadata": {
    "collapsed": false
   }
  },
  {
   "cell_type": "code",
   "execution_count": 44,
   "outputs": [],
   "source": [
    "records = deg_excerpt_1.to_records(index=False)\n",
    "new_note_array = np.array(records, dtype = records.dtype.descr)\n",
    "ppart = pt.performance.PerformedPart.from_note_array(new_note_array, )\n",
    "pt.save_performance_midi(ppart, \"./artifacts/test.mid\")"
   ],
   "metadata": {
    "collapsed": false
   }
  }
 ],
 "metadata": {
  "kernelspec": {
   "display_name": "Python 3",
   "language": "python",
   "name": "python3"
  },
  "language_info": {
   "codemirror_mode": {
    "name": "ipython",
    "version": 2
   },
   "file_extension": ".py",
   "mimetype": "text/x-python",
   "name": "python",
   "nbconvert_exporter": "python",
   "pygments_lexer": "ipython2",
   "version": "2.7.6"
  }
 },
 "nbformat": 4,
 "nbformat_minor": 0
}
