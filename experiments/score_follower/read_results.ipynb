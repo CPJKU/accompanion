{
 "cells": [
  {
   "cell_type": "markdown",
   "source": [
    "## Visualizing Experimental Results"
   ],
   "metadata": {
    "collapsed": false
   }
  },
  {
   "cell_type": "code",
   "execution_count": 10,
   "metadata": {
    "collapsed": true
   },
   "outputs": [],
   "source": [
    "import partitura as pt\n",
    "import parangonar as pg\n",
    "import pandas as pd\n",
    "import os\n",
    "import numpy as np"
   ]
  },
  {
   "cell_type": "code",
   "execution_count": 32,
   "outputs": [],
   "source": [
    "par_path = os.path.join(os.getcwd(), \"artifacts\")\n",
    "follower = \"oltw\"\n",
    "name = \"chopin_op10_No11\"\n",
    "gt_path = os.path.join(\n",
    "    os.path.normpath(\"C:\\\\Users\\\\melki\\\\Desktop\\\\JKU\\\\data\\\\accompanion_experiment\\\\match\"), name + \".match\")"
   ],
   "metadata": {
    "collapsed": false
   }
  },
  {
   "cell_type": "markdown",
   "source": [
    "## Evaluate Alignment\n",
    "\n",
    "This part of the experiment evaluates the matched notes by the score follower to the ground truth alignment."
   ],
   "metadata": {
    "collapsed": false
   }
  },
  {
   "cell_type": "code",
   "execution_count": 33,
   "outputs": [
    {
     "data": {
      "text/plain": "   idx  matchtype partid  ppartid\n0    0          0   n1-1        0\n1    1          0  n21-1        1\n2    2          0   n5-1        2\n3    3          0   n4-1        3\n4    4          0   n3-1        4",
      "text/html": "<div>\n<style scoped>\n    .dataframe tbody tr th:only-of-type {\n        vertical-align: middle;\n    }\n\n    .dataframe tbody tr th {\n        vertical-align: top;\n    }\n\n    .dataframe thead th {\n        text-align: right;\n    }\n</style>\n<table border=\"1\" class=\"dataframe\">\n  <thead>\n    <tr style=\"text-align: right;\">\n      <th></th>\n      <th>idx</th>\n      <th>matchtype</th>\n      <th>partid</th>\n      <th>ppartid</th>\n    </tr>\n  </thead>\n  <tbody>\n    <tr>\n      <th>0</th>\n      <td>0</td>\n      <td>0</td>\n      <td>n1-1</td>\n      <td>0</td>\n    </tr>\n    <tr>\n      <th>1</th>\n      <td>1</td>\n      <td>0</td>\n      <td>n21-1</td>\n      <td>1</td>\n    </tr>\n    <tr>\n      <th>2</th>\n      <td>2</td>\n      <td>0</td>\n      <td>n5-1</td>\n      <td>2</td>\n    </tr>\n    <tr>\n      <th>3</th>\n      <td>3</td>\n      <td>0</td>\n      <td>n4-1</td>\n      <td>3</td>\n    </tr>\n    <tr>\n      <th>4</th>\n      <td>4</td>\n      <td>0</td>\n      <td>n3-1</td>\n      <td>4</td>\n    </tr>\n  </tbody>\n</table>\n</div>"
     },
     "execution_count": 33,
     "metadata": {},
     "output_type": "execute_result"
    }
   ],
   "source": [
    "# Load the alignment file\n",
    "a = pd.read_csv(os.path.join(par_path, f\"{name}_{follower}_alignment.csv\"), sep=\",\")\n",
    "a.head()"
   ],
   "metadata": {
    "collapsed": false,
    "pycharm": {
     "name": "#%%\n"
    }
   }
  },
  {
   "cell_type": "code",
   "execution_count": 34,
   "outputs": [
    {
     "ename": "TypeError",
     "evalue": "'int' object is not subscriptable",
     "output_type": "error",
     "traceback": [
      "\u001B[1;31m---------------------------------------------------------------------------\u001B[0m",
      "\u001B[1;31mTypeError\u001B[0m                                 Traceback (most recent call last)",
      "\u001B[1;32m~\\AppData\\Local\\Temp\\ipykernel_23216\\1165408010.py\u001B[0m in \u001B[0;36m<module>\u001B[1;34m\u001B[0m\n\u001B[0;32m      1\u001B[0m \u001B[1;31m# Structure alignment as accepted input for parangonar fscore\u001B[0m\u001B[1;33m\u001B[0m\u001B[1;33m\u001B[0m\u001B[1;33m\u001B[0m\u001B[0m\n\u001B[1;32m----> 2\u001B[1;33m \u001B[0mpred_alignment\u001B[0m \u001B[1;33m=\u001B[0m \u001B[1;33m[\u001B[0m\u001B[1;33m{\u001B[0m\u001B[1;34m\"label\"\u001B[0m\u001B[1;33m:\u001B[0m \u001B[1;33m(\u001B[0m\u001B[1;34m\"match\"\u001B[0m \u001B[1;32mif\u001B[0m \u001B[0mrow\u001B[0m\u001B[1;33m[\u001B[0m\u001B[1;36m1\u001B[0m\u001B[1;33m]\u001B[0m\u001B[1;33m.\u001B[0m\u001B[0mmatchtype\u001B[0m\u001B[1;33m==\u001B[0m\u001B[1;36m0\u001B[0m \u001B[1;32melse\u001B[0m \u001B[1;34m\"insertion\"\u001B[0m\u001B[1;33m)\u001B[0m\u001B[1;33m,\u001B[0m \u001B[1;34m\"score_id\"\u001B[0m\u001B[1;33m:\u001B[0m \u001B[0mrow\u001B[0m\u001B[1;33m[\u001B[0m\u001B[1;36m1\u001B[0m\u001B[1;33m]\u001B[0m\u001B[1;33m.\u001B[0m\u001B[0mpartid\u001B[0m\u001B[1;33m,\u001B[0m \u001B[1;34m\"performance_id\"\u001B[0m\u001B[1;33m:\u001B[0m \u001B[0mrow\u001B[0m\u001B[1;33m[\u001B[0m\u001B[1;36m1\u001B[0m\u001B[1;33m]\u001B[0m\u001B[1;33m.\u001B[0m\u001B[0mppartid\u001B[0m\u001B[1;33m[\u001B[0m\u001B[1;36m4\u001B[0m\u001B[1;33m:\u001B[0m\u001B[1;33m]\u001B[0m\u001B[1;33m}\u001B[0m \u001B[1;32mfor\u001B[0m \u001B[0mrow\u001B[0m \u001B[1;32min\u001B[0m \u001B[0ma\u001B[0m\u001B[1;33m.\u001B[0m\u001B[0miterrows\u001B[0m\u001B[1;33m(\u001B[0m\u001B[1;33m)\u001B[0m\u001B[1;33m]\u001B[0m\u001B[1;33m\u001B[0m\u001B[1;33m\u001B[0m\u001B[0m\n\u001B[0m\u001B[0;32m      3\u001B[0m \u001B[1;33m\u001B[0m\u001B[0m\n\u001B[0;32m      4\u001B[0m \u001B[1;31m# Load Ground Truth Alignment\u001B[0m\u001B[1;33m\u001B[0m\u001B[1;33m\u001B[0m\u001B[1;33m\u001B[0m\u001B[0m\n\u001B[0;32m      5\u001B[0m \u001B[0mgt_ppart\u001B[0m\u001B[1;33m,\u001B[0m \u001B[0mgt_alignment\u001B[0m\u001B[1;33m,\u001B[0m \u001B[0mscore\u001B[0m \u001B[1;33m=\u001B[0m \u001B[0mpt\u001B[0m\u001B[1;33m.\u001B[0m\u001B[0mload_match\u001B[0m\u001B[1;33m(\u001B[0m\u001B[0mgt_path\u001B[0m\u001B[1;33m,\u001B[0m \u001B[0mcreate_score\u001B[0m\u001B[1;33m=\u001B[0m\u001B[1;32mTrue\u001B[0m\u001B[1;33m)\u001B[0m\u001B[1;33m\u001B[0m\u001B[1;33m\u001B[0m\u001B[0m\n",
      "\u001B[1;32m~\\AppData\\Local\\Temp\\ipykernel_23216\\1165408010.py\u001B[0m in \u001B[0;36m<listcomp>\u001B[1;34m(.0)\u001B[0m\n\u001B[0;32m      1\u001B[0m \u001B[1;31m# Structure alignment as accepted input for parangonar fscore\u001B[0m\u001B[1;33m\u001B[0m\u001B[1;33m\u001B[0m\u001B[1;33m\u001B[0m\u001B[0m\n\u001B[1;32m----> 2\u001B[1;33m \u001B[0mpred_alignment\u001B[0m \u001B[1;33m=\u001B[0m \u001B[1;33m[\u001B[0m\u001B[1;33m{\u001B[0m\u001B[1;34m\"label\"\u001B[0m\u001B[1;33m:\u001B[0m \u001B[1;33m(\u001B[0m\u001B[1;34m\"match\"\u001B[0m \u001B[1;32mif\u001B[0m \u001B[0mrow\u001B[0m\u001B[1;33m[\u001B[0m\u001B[1;36m1\u001B[0m\u001B[1;33m]\u001B[0m\u001B[1;33m.\u001B[0m\u001B[0mmatchtype\u001B[0m\u001B[1;33m==\u001B[0m\u001B[1;36m0\u001B[0m \u001B[1;32melse\u001B[0m \u001B[1;34m\"insertion\"\u001B[0m\u001B[1;33m)\u001B[0m\u001B[1;33m,\u001B[0m \u001B[1;34m\"score_id\"\u001B[0m\u001B[1;33m:\u001B[0m \u001B[0mrow\u001B[0m\u001B[1;33m[\u001B[0m\u001B[1;36m1\u001B[0m\u001B[1;33m]\u001B[0m\u001B[1;33m.\u001B[0m\u001B[0mpartid\u001B[0m\u001B[1;33m,\u001B[0m \u001B[1;34m\"performance_id\"\u001B[0m\u001B[1;33m:\u001B[0m \u001B[0mrow\u001B[0m\u001B[1;33m[\u001B[0m\u001B[1;36m1\u001B[0m\u001B[1;33m]\u001B[0m\u001B[1;33m.\u001B[0m\u001B[0mppartid\u001B[0m\u001B[1;33m[\u001B[0m\u001B[1;36m4\u001B[0m\u001B[1;33m:\u001B[0m\u001B[1;33m]\u001B[0m\u001B[1;33m}\u001B[0m \u001B[1;32mfor\u001B[0m \u001B[0mrow\u001B[0m \u001B[1;32min\u001B[0m \u001B[0ma\u001B[0m\u001B[1;33m.\u001B[0m\u001B[0miterrows\u001B[0m\u001B[1;33m(\u001B[0m\u001B[1;33m)\u001B[0m\u001B[1;33m]\u001B[0m\u001B[1;33m\u001B[0m\u001B[1;33m\u001B[0m\u001B[0m\n\u001B[0m\u001B[0;32m      3\u001B[0m \u001B[1;33m\u001B[0m\u001B[0m\n\u001B[0;32m      4\u001B[0m \u001B[1;31m# Load Ground Truth Alignment\u001B[0m\u001B[1;33m\u001B[0m\u001B[1;33m\u001B[0m\u001B[1;33m\u001B[0m\u001B[0m\n\u001B[0;32m      5\u001B[0m \u001B[0mgt_ppart\u001B[0m\u001B[1;33m,\u001B[0m \u001B[0mgt_alignment\u001B[0m\u001B[1;33m,\u001B[0m \u001B[0mscore\u001B[0m \u001B[1;33m=\u001B[0m \u001B[0mpt\u001B[0m\u001B[1;33m.\u001B[0m\u001B[0mload_match\u001B[0m\u001B[1;33m(\u001B[0m\u001B[0mgt_path\u001B[0m\u001B[1;33m,\u001B[0m \u001B[0mcreate_score\u001B[0m\u001B[1;33m=\u001B[0m\u001B[1;32mTrue\u001B[0m\u001B[1;33m)\u001B[0m\u001B[1;33m\u001B[0m\u001B[1;33m\u001B[0m\u001B[0m\n",
      "\u001B[1;31mTypeError\u001B[0m: 'int' object is not subscriptable"
     ]
    }
   ],
   "source": [
    "# Structure alignment as accepted input for parangonar fscore\n",
    "pred_alignment = [{\"label\": (\"match\" if row[1].matchtype==0 else \"insertion\"), \"score_id\": row[1].partid, \"performance_id\": row[1].ppartid[4:]} for row in a.iterrows()]\n",
    "\n",
    "# Load Ground Truth Alignment\n",
    "gt_ppart, gt_alignment, score = pt.load_match(gt_path, create_score=True)\n",
    "\n",
    "fmeasure = pg.fscore_alignments(pred_alignment, gt_alignment, types=[\"match\"])\n",
    "print(fmeasure)"
   ],
   "metadata": {
    "collapsed": false,
    "pycharm": {
     "name": "#%%\n"
    }
   }
  },
  {
   "cell_type": "markdown",
   "source": [
    "## Time Delay Evaluation\n",
    "\n",
    "This experiment evaluates the time delay between the expected onsets and the performed onsets.\n",
    "The score follower predicts a score position and a beat period, which we can use to compute the expected onset in seconds and compare it to the performed onset in seconds."
   ],
   "metadata": {
    "collapsed": false
   }
  },
  {
   "cell_type": "code",
   "execution_count": 14,
   "outputs": [
    {
     "data": {
      "text/plain": "                  Solo Performance Onset  Beat Period\nSolo Score Onset                                     \n-3.0                            0.501469     0.500000\n-2.5                            0.877298     0.500000\n-2.0                            1.175111     0.700221\n-1.5                            1.457543     0.689483\n-1.0                            1.787076     0.682160",
      "text/html": "<div>\n<style scoped>\n    .dataframe tbody tr th:only-of-type {\n        vertical-align: middle;\n    }\n\n    .dataframe tbody tr th {\n        vertical-align: top;\n    }\n\n    .dataframe thead th {\n        text-align: right;\n    }\n</style>\n<table border=\"1\" class=\"dataframe\">\n  <thead>\n    <tr style=\"text-align: right;\">\n      <th></th>\n      <th>Solo Performance Onset</th>\n      <th>Beat Period</th>\n    </tr>\n    <tr>\n      <th>Solo Score Onset</th>\n      <th></th>\n      <th></th>\n    </tr>\n  </thead>\n  <tbody>\n    <tr>\n      <th>-3.0</th>\n      <td>0.501469</td>\n      <td>0.500000</td>\n    </tr>\n    <tr>\n      <th>-2.5</th>\n      <td>0.877298</td>\n      <td>0.500000</td>\n    </tr>\n    <tr>\n      <th>-2.0</th>\n      <td>1.175111</td>\n      <td>0.700221</td>\n    </tr>\n    <tr>\n      <th>-1.5</th>\n      <td>1.457543</td>\n      <td>0.689483</td>\n    </tr>\n    <tr>\n      <th>-1.0</th>\n      <td>1.787076</td>\n      <td>0.682160</td>\n    </tr>\n  </tbody>\n</table>\n</div>"
     },
     "execution_count": 14,
     "metadata": {},
     "output_type": "execute_result"
    }
   ],
   "source": [
    "time_delays = pd.read_csv(os.path.join(par_path, name + \"_time_delays.csv\"), index_col=0, sep=\",\")\n",
    "time_delays.head()"
   ],
   "metadata": {
    "collapsed": false,
    "pycharm": {
     "name": "#%%\n"
    }
   }
  },
  {
   "cell_type": "code",
   "execution_count": 15,
   "outputs": [],
   "source": [
    "# # Normalize time delay to get only positive beats\n",
    "# time_delays.index = time_delays.index - time_delays.index.min() if time_delays.index.min() < 0 else time_delays.index\n",
    "# # Get the relative performed positions\n",
    "# ioi_perf = np.r_[0, np.diff(time_delays.index.to_numpy())] * time_delays[\"Beat Period\"].to_numpy()\n",
    "# # Get the cumlative sum to get seconds\n",
    "# pred_ptime = np.cumsum(ioi_perf)\n",
    "# # Get the mean difference / time delay\n",
    "# tdiff = np.abs(pred_ptime - time_delays[\"Solo Performance Onset\"].to_numpy()).mean()\n",
    "# print(tdiff)"
   ],
   "metadata": {
    "collapsed": false,
    "pycharm": {
     "name": "#%%\n"
    }
   }
  },
  {
   "cell_type": "code",
   "execution_count": 16,
   "outputs": [],
   "source": [
    "pnote_array = gt_ppart.note_array()\n",
    "note_array = score.note_array()\n",
    "\n",
    "pred_beats = time_delays.index.to_numpy()\n",
    "s_beat_delays = list()\n",
    "for idx, p_onset in enumerate(time_delays[\"Solo Performance Onset\"].to_numpy()):\n",
    "    p_id = pnote_array[np.argmin(np.abs(pnote_array[\"onset_sec\"] - p_onset))][\"id\"]\n",
    "    for a in gt_alignment:\n",
    "        if a[\"label\"] == \"match\":\n",
    "            if a[\"performance_id\"] == p_id:\n",
    "                onset = note_array[note_array[\"id\"]==a[\"score_id\"]][\"onset_beat\"]\n",
    "                s_beat_delays.append(abs(pred_beats[idx] - onset))\n",
    "                break"
   ],
   "metadata": {
    "collapsed": false,
    "pycharm": {
     "name": "#%%\n"
    }
   }
  },
  {
   "cell_type": "code",
   "execution_count": 29,
   "outputs": [
    {
     "name": "stdout",
     "output_type": "stream",
     "text": [
      "Average delay in beats for piece chopin_op09_No1 using the hmm follower is : \n",
      "1.7857807874679565 beats\n"
     ]
    }
   ],
   "source": [
    "s_beat_delays = np.array(s_beat_delays)\n",
    "print(\"Average delay in beats for piece {} using the {} follower is : \\n{} beats\".format(name, follower, s_beat_delays.mean()))"
   ],
   "metadata": {
    "collapsed": false,
    "pycharm": {
     "name": "#%%\n"
    }
   }
  },
  {
   "cell_type": "code",
   "execution_count": 18,
   "outputs": [],
   "source": [
    "pnote_array = gt_ppart.note_array()\n",
    "note_array = score.note_array()\n",
    "\n",
    "pred_onset = time_delays[\"Solo Performance Onset\"].to_numpy()\n",
    "p_time_delays = list()\n",
    "for idx, s_onset in enumerate(time_delays.index.to_numpy()):\n",
    "    s_idx = note_array[note_array[\"onset_beat\"] == s_onset][\"id\"]\n",
    "    tmp = []\n",
    "    for s_id in s_idx:\n",
    "        for a in gt_alignment:\n",
    "            if a[\"label\"] == \"match\":\n",
    "                if a[\"score_id\"] == s_id:\n",
    "                    onset = pnote_array[pnote_array[\"id\"]==a[\"performance_id\"]][\"onset_sec\"]\n",
    "                    tmp.append(abs(pred_onset[idx] - onset))\n",
    "    if tmp:\n",
    "        p_time_delays.append(min(tmp))"
   ],
   "metadata": {
    "collapsed": false,
    "pycharm": {
     "name": "#%%\n"
    }
   }
  },
  {
   "cell_type": "code",
   "execution_count": 31,
   "outputs": [
    {
     "name": "stdout",
     "output_type": "stream",
     "text": [
      "Average delay in seconds for piece chopin_op09_No1 using the hmm follower is : \n",
      "1.126117467880249 seconds\n"
     ]
    }
   ],
   "source": [
    "p_time_delays = np.array(p_time_delays)\n",
    "print(\"Average delay in seconds for piece {} using the {} follower is : \\n{} seconds\".format(name, follower, p_time_delays.mean()))"
   ],
   "metadata": {
    "collapsed": false,
    "pycharm": {
     "name": "#%%\n"
    }
   }
  },
  {
   "cell_type": "markdown",
   "source": [
    "## Exploring MIDI Degradation\n",
    "\n",
    "This part of the code explores ways to degrade a midi performance to create increasingly difficult performances to follow."
   ],
   "metadata": {
    "collapsed": false
   }
  },
  {
   "cell_type": "code",
   "execution_count": 1,
   "outputs": [],
   "source": [
    "import pandas as pd\n",
    "import numpy as np\n",
    "import partitura as pt\n",
    "import os\n",
    "from mdtk.degradations import (\n",
    "    pitch_shift,\n",
    "    time_shift,\n",
    "    onset_shift,\n",
    "    offset_shift,\n",
    "    remove_note,\n",
    "    add_note,\n",
    ")"
   ],
   "metadata": {
    "collapsed": false
   }
  },
  {
   "cell_type": "code",
   "execution_count": 2,
   "outputs": [],
   "source": [
    "piece_path = os.path.normpath(\"/home/manos/Desktop/JKU/data/accompanion_experiment/midi/chopin_op10_No11.mid\")\n",
    "performance = pt.load_performance(piece_path)\n",
    "piece_name = os.path.splitext(os.path.basename(piece_path))[0]\n",
    "note_array = performance.note_array()\n",
    "ppq = performance[0].ppq\n",
    "mpq = performance[0].mpq"
   ],
   "metadata": {
    "collapsed": false
   }
  },
  {
   "cell_type": "code",
   "execution_count": 3,
   "outputs": [
    {
     "data": {
      "text/plain": "array([(1445.1239, 1.4041667 , 1387319, 1348, 82, 39, 1, 1, 'P01_n0'),\n       (1445.6802, 0.19166666, 1387853,  184, 39, 25, 1, 1, 'P01_n1'),\n       (1445.9323, 0.10833333, 1388095,  104, 70, 15, 1, 1, 'P01_n2'),\n       ...,\n       (1574.8927, 0.02916667, 1511897,   28, 79, 90, 1, 1, 'P01_n1980'),\n       (1575.2333, 0.6875    , 1512224,  660, 39, 69, 1, 1, 'P01_n1981'),\n       (1575.2448, 0.51666665, 1512235,  496, 99, 98, 1, 1, 'P01_n1982')],\n      dtype=[('onset_sec', '<f4'), ('duration_sec', '<f4'), ('onset_tick', '<i4'), ('duration_tick', '<i4'), ('pitch', '<i4'), ('velocity', '<i4'), ('track', '<i4'), ('channel', '<i4'), ('id', '<U256')])"
     },
     "execution_count": 3,
     "metadata": {},
     "output_type": "execute_result"
    }
   ],
   "source": [
    "note_array"
   ],
   "metadata": {
    "collapsed": false
   }
  },
  {
   "cell_type": "code",
   "execution_count": 4,
   "outputs": [],
   "source": [
    "def degradation_from_note_array(note_array, mpq, ppq, percentage=0.1, min_pitch=36, max_pitch=110, min_shift=100, max_shift=1_000):\n",
    "    \"\"\"\n",
    "    Degrade Midi from note_array.\n",
    "\n",
    "    Parameters\n",
    "    ----------\n",
    "    note_array: numpy structured array\n",
    "        The performed part array\n",
    "    mpq: int\n",
    "    ppq: int\n",
    "    min_pitch: int (optional)\n",
    "        degrade pitch by randomly moving from min_pitch upwards\n",
    "    max_pitch: int (optional)\n",
    "        degrade pitch by randomly moving from max_pitch downwards\n",
    "    min_shift : int (optional)\n",
    "        Move random onsets and offsets at least 10 msec.\n",
    "    max_shift: int (optinoal)\n",
    "        Move random onsets and offsets at most 1 sec.\n",
    "\n",
    "    Returns\n",
    "    -------\n",
    "    ppart : partitura.performance.Part\n",
    "        A performed part created from note array.\n",
    "    \"\"\"\n",
    "    odf = pd.DataFrame(note_array)\n",
    "    df = pd.DataFrame(\n",
    "        {\n",
    "            \"onset\": note_array[\"onset_tick\"],\n",
    "            \"pitch\": note_array[\"pitch\"],\n",
    "            \"dur\": note_array[\"duration_tick\"],\n",
    "            \"velocity\": note_array[\"velocity\"],\n",
    "            \"track\": note_array[\"track\"]\n",
    "        }\n",
    "    )\n",
    "    min_pitch = min_pitch  # cant shift lower than 36 (default)\n",
    "    max_pitch = max_pitch # cant shift higher than 110 (default)\n",
    "    distribution = [0, 1, 1, 0, 1, 1, 0]  # only shift min 2nd or maj 3rd up/down\n",
    "    for i in range(int(len(note_array)*percentage)):\n",
    "        # df = pitch_shift(\n",
    "        #     df,\n",
    "        #     min_pitch=min_pitch,\n",
    "        #     max_pitch=max_pitch,\n",
    "        #     distribution=distribution,\n",
    "        # )\n",
    "\n",
    "        df = onset_shift(\n",
    "            df,\n",
    "            min_shift=min_shift, # dont shift less than .01s (default)\n",
    "            max_shift=max_shift, # dont shift more than 1s (default)\n",
    "        )\n",
    "\n",
    "        df = offset_shift(\n",
    "            df,\n",
    "            min_shift,\n",
    "            max_shift\n",
    "        )\n",
    "\n",
    "    df[\"id\"] = odf[\"id\"]\n",
    "    df[\"channel\"] = odf[\"channel\"]\n",
    "    df[\"onset_sec\"] = pt.utils.music.midi_ticks_to_seconds(df[\"onset\"].to_numpy(), mpq=mpq, ppq=ppq)\n",
    "    df[\"duration_sec\"] = pt.utils.music.midi_ticks_to_seconds(df[\"dur\"].to_numpy(), mpq=mpq, ppq=ppq)\n",
    "    df[\"velocity\"] = np.clip(df[\"velocity\"].to_numpy() + ((np.random.rand(len(note_array))*2 - 1)*(percentage*100)).astype(int) , 0, 127)\n",
    "\n",
    "    records = df.to_records(index=False)\n",
    "    new_note_array = np.array(records, dtype = records.dtype.descr)\n",
    "    ppart = pt.performance.PerformedPart.from_note_array(new_note_array)\n",
    "    return ppart"
   ],
   "metadata": {
    "collapsed": false
   }
  },
  {
   "cell_type": "code",
   "execution_count": 33,
   "outputs": [],
   "source": [
    "percentage = 0.1\n",
    "save_path = os.path.join(os.getcwd(), \"artifacts\", f\"mdtk_{int(percentage*100)}\")\n",
    "if not os.path.exists(save_path):\n",
    "    os.mkdir(save_path)\n",
    "ppart = degradation_from_note_array(note_array, mpq, ppq, percentage=percentage)\n",
    "pt.save_performance_midi(ppart, os.path.join(save_path, piece_name+\".mid\"))"
   ],
   "metadata": {
    "collapsed": false
   }
  },
  {
   "cell_type": "code",
   "execution_count": 11,
   "outputs": [],
   "source": [
    "def degrade_all(path, percentage=0.1):\n",
    "    for file in os.listdir(path):\n",
    "        if file.endswith(\".match\"):\n",
    "            save_path = os.path.join(os.getcwd(), \"artifacts\", f\"mdtk_match_{int(percentage*100)}\")\n",
    "            piece_path = os.path.join(path, file)\n",
    "            piece_name = os.path.splitext(os.path.basename(piece_path))[0]\n",
    "            if os.path.exists(os.path.join(save_path, piece_name+\".match\")):\n",
    "                continue\n",
    "            par_dir = os.path.dirname(os.path.dirname(path))\n",
    "            score_path = os.path.join(par_dir, \"musicxml\", piece_name+\".musicxml\")\n",
    "            score = pt.load_score(score_path)\n",
    "            performance, alignment = pt.load_match(piece_path)\n",
    "            note_array = performance.note_array()\n",
    "            ppq = performance[0].ppq\n",
    "            mpq = performance[0].mpq\n",
    "\n",
    "            if not os.path.exists(save_path):\n",
    "                os.mkdir(save_path)\n",
    "            # ppart = performance\n",
    "            ppart = degradation_from_note_array(note_array, mpq, ppq, percentage=percentage)\n",
    "            pt.save_match(alignment, ppart, score, os.path.join(save_path, piece_name+\".match\"), assume_unfolded=True)\n",
    "\n",
    "degrade_all(\"/home/manos/Desktop/JKU/data/accompanion_experiment/match/\", percentage=0.1)"
   ],
   "metadata": {
    "collapsed": false
   }
  },
  {
   "cell_type": "code",
   "execution_count": 43,
   "outputs": [
    {
     "data": {
      "text/plain": "   onset  track  pitch  dur  velocity      id  channel  onset_sec  \\\n0      2      0     60    2        64  P00_n0        1      0.125   \n1      4      0     62    2        64  P00_n1        1      0.250   \n2      6      0     64    2        64  P00_n2        1      0.375   \n3      8      0     65    2        64  P00_n3        1      0.500   \n4     10      0     62    2        64  P00_n4        1      0.625   \n\n   duration_sec  \n0         0.125  \n1         0.125  \n2         0.125  \n3         0.125  \n4         0.125  ",
      "text/html": "<div>\n<style scoped>\n    .dataframe tbody tr th:only-of-type {\n        vertical-align: middle;\n    }\n\n    .dataframe tbody tr th {\n        vertical-align: top;\n    }\n\n    .dataframe thead th {\n        text-align: right;\n    }\n</style>\n<table border=\"1\" class=\"dataframe\">\n  <thead>\n    <tr style=\"text-align: right;\">\n      <th></th>\n      <th>onset</th>\n      <th>track</th>\n      <th>pitch</th>\n      <th>dur</th>\n      <th>velocity</th>\n      <th>id</th>\n      <th>channel</th>\n      <th>onset_sec</th>\n      <th>duration_sec</th>\n    </tr>\n  </thead>\n  <tbody>\n    <tr>\n      <th>0</th>\n      <td>2</td>\n      <td>0</td>\n      <td>60</td>\n      <td>2</td>\n      <td>64</td>\n      <td>P00_n0</td>\n      <td>1</td>\n      <td>0.125</td>\n      <td>0.125</td>\n    </tr>\n    <tr>\n      <th>1</th>\n      <td>4</td>\n      <td>0</td>\n      <td>62</td>\n      <td>2</td>\n      <td>64</td>\n      <td>P00_n1</td>\n      <td>1</td>\n      <td>0.250</td>\n      <td>0.125</td>\n    </tr>\n    <tr>\n      <th>2</th>\n      <td>6</td>\n      <td>0</td>\n      <td>64</td>\n      <td>2</td>\n      <td>64</td>\n      <td>P00_n2</td>\n      <td>1</td>\n      <td>0.375</td>\n      <td>0.125</td>\n    </tr>\n    <tr>\n      <th>3</th>\n      <td>8</td>\n      <td>0</td>\n      <td>65</td>\n      <td>2</td>\n      <td>64</td>\n      <td>P00_n3</td>\n      <td>1</td>\n      <td>0.500</td>\n      <td>0.125</td>\n    </tr>\n    <tr>\n      <th>4</th>\n      <td>10</td>\n      <td>0</td>\n      <td>62</td>\n      <td>2</td>\n      <td>64</td>\n      <td>P00_n4</td>\n      <td>1</td>\n      <td>0.625</td>\n      <td>0.125</td>\n    </tr>\n  </tbody>\n</table>\n</div>"
     },
     "execution_count": 43,
     "metadata": {},
     "output_type": "execute_result"
    }
   ],
   "source": [
    "\n",
    "\n",
    "deg_excerpt_1 = pitch_shift(\n",
    "    df,\n",
    "    min_pitch=min_pitch,\n",
    "    max_pitch=max_pitch,\n",
    "    distribution=distribution,\n",
    "    seed=42\n",
    ")\n",
    "deg_excerpt_1[\"id\"] = odf[\"id\"]\n",
    "deg_excerpt_1[\"channel\"] = odf[\"channel\"]\n",
    "deg_excerpt_1[\"onset_sec\"] = pt.utils.music.midi_ticks_to_seconds(deg_excerpt_1[\"onset\"].to_numpy(), mpq=mpq, ppq=ppq)\n",
    "deg_excerpt_1[\"duration_sec\"] = pt.utils.music.midi_ticks_to_seconds(deg_excerpt_1[\"dur\"].to_numpy(), mpq=mpq, ppq=ppq)\n",
    "deg_excerpt_1.head()"
   ],
   "metadata": {
    "collapsed": false
   }
  },
  {
   "cell_type": "code",
   "execution_count": null,
   "outputs": [],
   "source": [
    "min_shift = 10  # dont shift less than .01s\n",
    "max_shift = 1_000   # dont shift more than 1s\n",
    "\n",
    "deg_excerpt_2 = onset_shift(\n",
    "    df,\n",
    "    min_shift=min_pitch,\n",
    "    max_shift=max_pitch,\n",
    ")\n",
    "\n",
    "deg_excerpt_2 = offset_shift(\n",
    "    deg_excerpt_2,\n",
    "    min_shift,\n",
    "    max_shift\n",
    ")\n",
    "\n",
    "deg_excerpt_2[\"id\"] = odf[\"id\"]\n",
    "deg_excerpt_2[\"channel\"] = odf[\"channel\"]\n",
    "deg_excerpt_2[\"onset_sec\"] = pt.utils.music.midi_ticks_to_seconds(deg_excerpt_1[\"onset\"].to_numpy(), mpq=mpq, ppq=ppq)\n",
    "deg_excerpt_2[\"duration_sec\"] = pt.utils.music.midi_ticks_to_seconds(deg_excerpt_1[\"dur\"].to_numpy(), mpq=mpq, ppq=ppq)\n",
    "deg_excerpt_2.head()"
   ],
   "metadata": {
    "collapsed": false,
    "pycharm": {
     "name": "#%%\n"
    }
   }
  },
  {
   "cell_type": "code",
   "execution_count": 44,
   "outputs": [],
   "source": [
    "records = deg_excerpt_1.to_records(index=False)\n",
    "new_note_array = np.array(records, dtype = records.dtype.descr)\n",
    "ppart = pt.performance.PerformedPart.from_note_array(new_note_array)\n",
    "pt.save_performance_midi(ppart, \"./artifacts/mdtk/piece_name.mid\")"
   ],
   "metadata": {
    "collapsed": false
   }
  }
 ],
 "metadata": {
  "kernelspec": {
   "display_name": "Python 3",
   "language": "python",
   "name": "python3"
  },
  "language_info": {
   "codemirror_mode": {
    "name": "ipython",
    "version": 2
   },
   "file_extension": ".py",
   "mimetype": "text/x-python",
   "name": "python",
   "nbconvert_exporter": "python",
   "pygments_lexer": "ipython2",
   "version": "2.7.6"
  }
 },
 "nbformat": 4,
 "nbformat_minor": 0
}
