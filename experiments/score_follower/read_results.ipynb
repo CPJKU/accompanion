{
 "cells": [
  {
   "cell_type": "markdown",
   "source": [
    "## Visualizing Experimental Results"
   ],
   "metadata": {
    "collapsed": false
   }
  },
  {
   "cell_type": "code",
   "execution_count": 26,
   "metadata": {
    "collapsed": true
   },
   "outputs": [],
   "source": [
    "import partitura as pt\n",
    "import parangonar as pg\n",
    "import pandas as pd\n",
    "import os\n",
    "import numpy as np"
   ]
  },
  {
   "cell_type": "code",
   "execution_count": 31,
   "outputs": [],
   "source": [
    "par_path = os.path.join(os.getcwd(), \"artifacts\")\n",
    "follower = \"hmm\"\n",
    "name = \"chopin_op09_No1\"\n",
    "gt_path = os.path.join(\n",
    "    os.path.normpath(\"C:\\\\Users\\\\melki\\\\Desktop\\\\JKU\\\\data\\\\accompanion_experiment\\\\match\"), name + \".match\")"
   ],
   "metadata": {
    "collapsed": false
   }
  },
  {
   "cell_type": "markdown",
   "source": [
    "## Evaluate Alignment\n",
    "\n",
    "This part of the experiment evaluates the matched notes by the score follower to the ground truth alignment."
   ],
   "metadata": {
    "collapsed": false
   }
  },
  {
   "cell_type": "code",
   "execution_count": 32,
   "outputs": [
    {
     "data": {
      "text/plain": "   idx  matchtype partid ppartid\n0    0          0   n3-1  P01_n0\n1    1          0   n4-1  P01_n1\n2    2          0   n5-1  P01_n3\n3    3          0   n7-1  P01_n5\n4    4          0  n10-1  P01_n8",
      "text/html": "<div>\n<style scoped>\n    .dataframe tbody tr th:only-of-type {\n        vertical-align: middle;\n    }\n\n    .dataframe tbody tr th {\n        vertical-align: top;\n    }\n\n    .dataframe thead th {\n        text-align: right;\n    }\n</style>\n<table border=\"1\" class=\"dataframe\">\n  <thead>\n    <tr style=\"text-align: right;\">\n      <th></th>\n      <th>idx</th>\n      <th>matchtype</th>\n      <th>partid</th>\n      <th>ppartid</th>\n    </tr>\n  </thead>\n  <tbody>\n    <tr>\n      <th>0</th>\n      <td>0</td>\n      <td>0</td>\n      <td>n3-1</td>\n      <td>P01_n0</td>\n    </tr>\n    <tr>\n      <th>1</th>\n      <td>1</td>\n      <td>0</td>\n      <td>n4-1</td>\n      <td>P01_n1</td>\n    </tr>\n    <tr>\n      <th>2</th>\n      <td>2</td>\n      <td>0</td>\n      <td>n5-1</td>\n      <td>P01_n3</td>\n    </tr>\n    <tr>\n      <th>3</th>\n      <td>3</td>\n      <td>0</td>\n      <td>n7-1</td>\n      <td>P01_n5</td>\n    </tr>\n    <tr>\n      <th>4</th>\n      <td>4</td>\n      <td>0</td>\n      <td>n10-1</td>\n      <td>P01_n8</td>\n    </tr>\n  </tbody>\n</table>\n</div>"
     },
     "execution_count": 32,
     "metadata": {},
     "output_type": "execute_result"
    }
   ],
   "source": [
    "# Load the alignment file\n",
    "a = pd.read_csv(os.path.join(par_path, f\"{name}_{follower}_alignment.csv\"), sep=\",\")\n",
    "a.head()"
   ],
   "metadata": {
    "collapsed": false,
    "pycharm": {
     "name": "#%%\n"
    }
   }
  },
  {
   "cell_type": "code",
   "execution_count": 37,
   "outputs": [
    {
     "name": "stdout",
     "output_type": "stream",
     "text": [
      "(0.17297979797979798, 0.08039906103286384, 0.10977564102564102)\n"
     ]
    }
   ],
   "source": [
    "# Structure alignment as accepted input for parangonar fscore\n",
    "pred_alignment = [{\"label\": (\"match\" if row[1].matchtype==0 else \"insertion\"), \"score_id\": row[1].partid, \"performance_id\": row[1].ppartid[4:]} for row in a.iterrows()]\n",
    "\n",
    "# Load Ground Truth Alignment\n",
    "gt_ppart, gt_alignment, score = pt.load_match(gt_path, create_score=True)\n",
    "\n",
    "fmeasure = pg.fscore_alignments(pred_alignment, gt_alignment, types=[\"match\"])\n",
    "print(fmeasure)"
   ],
   "metadata": {
    "collapsed": false,
    "pycharm": {
     "name": "#%%\n"
    }
   }
  },
  {
   "cell_type": "markdown",
   "source": [
    "## Time Delay Evaluation\n",
    "\n",
    "This experiment evaluates the time delay between the expected onsets and the performed onsets.\n",
    "The score follower predicts a score position and a beat period, which we can use to compute the expected onset in seconds and compare it to the performed onset in seconds."
   ],
   "metadata": {
    "collapsed": false
   }
  },
  {
   "cell_type": "code",
   "execution_count": 38,
   "outputs": [
    {
     "data": {
      "text/plain": "                  Solo Performance Onset  Beat Period\nSolo Score Onset                                     \n-3.0                            0.501469     0.500000\n-2.5                            0.877298     0.500000\n-2.0                            1.175111     0.700221\n-1.5                            1.457543     0.689483\n-1.0                            1.787076     0.682160",
      "text/html": "<div>\n<style scoped>\n    .dataframe tbody tr th:only-of-type {\n        vertical-align: middle;\n    }\n\n    .dataframe tbody tr th {\n        vertical-align: top;\n    }\n\n    .dataframe thead th {\n        text-align: right;\n    }\n</style>\n<table border=\"1\" class=\"dataframe\">\n  <thead>\n    <tr style=\"text-align: right;\">\n      <th></th>\n      <th>Solo Performance Onset</th>\n      <th>Beat Period</th>\n    </tr>\n    <tr>\n      <th>Solo Score Onset</th>\n      <th></th>\n      <th></th>\n    </tr>\n  </thead>\n  <tbody>\n    <tr>\n      <th>-3.0</th>\n      <td>0.501469</td>\n      <td>0.500000</td>\n    </tr>\n    <tr>\n      <th>-2.5</th>\n      <td>0.877298</td>\n      <td>0.500000</td>\n    </tr>\n    <tr>\n      <th>-2.0</th>\n      <td>1.175111</td>\n      <td>0.700221</td>\n    </tr>\n    <tr>\n      <th>-1.5</th>\n      <td>1.457543</td>\n      <td>0.689483</td>\n    </tr>\n    <tr>\n      <th>-1.0</th>\n      <td>1.787076</td>\n      <td>0.682160</td>\n    </tr>\n  </tbody>\n</table>\n</div>"
     },
     "execution_count": 38,
     "metadata": {},
     "output_type": "execute_result"
    }
   ],
   "source": [
    "time_delays = pd.read_csv(os.path.join(par_path, name + \"_time_delays.csv\"), index_col=0, sep=\",\")\n",
    "time_delays.head()"
   ],
   "metadata": {
    "collapsed": false,
    "pycharm": {
     "name": "#%%\n"
    }
   }
  },
  {
   "cell_type": "code",
   "execution_count": 39,
   "outputs": [
    {
     "name": "stdout",
     "output_type": "stream",
     "text": [
      "9.893603486882096\n"
     ]
    }
   ],
   "source": [
    "# Normalize time delay to get only positive beats\n",
    "time_delays.index = time_delays.index - time_delays.index.min() if time_delays.index.min() < 0 else time_delays.index\n",
    "# Get the relative performed positions\n",
    "ioi_perf = np.r_[0, np.diff(time_delays.index.to_numpy())] * time_delays[\"Beat Period\"].to_numpy()\n",
    "# Get the cumlative sum to get seconds\n",
    "pred_ptime = np.cumsum(ioi_perf)\n",
    "# Get the mean difference / time delay\n",
    "tdiff = np.abs(pred_ptime - time_delays[\"Solo Performance Onset\"].to_numpy()).mean()\n",
    "print(tdiff)"
   ],
   "metadata": {
    "collapsed": false,
    "pycharm": {
     "name": "#%%\n"
    }
   }
  },
  {
   "cell_type": "code",
   "execution_count": 40,
   "outputs": [],
   "source": [
    "pnote_array = gt_ppart.note_array()\n",
    "note_array = score.note_array()\n",
    "\n",
    "pred_beats = time_delays.index.to_numpy()\n",
    "s_beat_delays = list()\n",
    "for idx, p_onset in enumerate(time_delays[\"Solo Performance Onset\"].to_numpy()):\n",
    "    p_id = pnote_array[np.argmin(np.abs(pnote_array[\"onset_sec\"] - p_onset))][\"id\"]\n",
    "    for a in gt_alignment:\n",
    "        if a[\"label\"] == \"match\":\n",
    "            if a[\"performance_id\"] == p_id:\n",
    "                onset = note_array[note_array[\"id\"]==a[\"score_id\"]][\"onset_beat\"]\n",
    "                s_beat_delays.append(abs(pred_beats[idx] - onset))\n",
    "                break"
   ],
   "metadata": {
    "collapsed": false,
    "pycharm": {
     "name": "#%%\n"
    }
   }
  },
  {
   "cell_type": "code",
   "execution_count": 41,
   "outputs": [
    {
     "data": {
      "text/plain": "2.753057"
     },
     "execution_count": 41,
     "metadata": {},
     "output_type": "execute_result"
    }
   ],
   "source": [
    "np.array(s_beat_delays).mean()"
   ],
   "metadata": {
    "collapsed": false,
    "pycharm": {
     "name": "#%%\n"
    }
   }
  },
  {
   "cell_type": "code",
   "execution_count": 42,
   "outputs": [],
   "source": [
    "pnote_array = gt_ppart.note_array()\n",
    "note_array = score.note_array()\n",
    "\n",
    "pred_onset = time_delays[\"Solo Performance Onset\"].to_numpy()\n",
    "p_time_delays = list()\n",
    "for idx, s_onset in enumerate(time_delays.index.to_numpy()):\n",
    "    s_idx = note_array[note_array[\"onset_beat\"] == s_onset][\"id\"]\n",
    "    tmp = []\n",
    "    for s_id in s_idx:\n",
    "        for a in gt_alignment:\n",
    "            if a[\"label\"] == \"match\":\n",
    "                if a[\"score_id\"] == s_id:\n",
    "                    onset = pnote_array[pnote_array[\"id\"]==a[\"performance_id\"]][\"onset_sec\"]\n",
    "                    tmp.append(abs(pred_onset[idx] - onset))\n",
    "    if tmp:\n",
    "        p_time_delays.append(min(tmp))"
   ],
   "metadata": {
    "collapsed": false,
    "pycharm": {
     "name": "#%%\n"
    }
   }
  },
  {
   "cell_type": "code",
   "execution_count": 43,
   "outputs": [
    {
     "data": {
      "text/plain": "1.8184589"
     },
     "execution_count": 43,
     "metadata": {},
     "output_type": "execute_result"
    }
   ],
   "source": [
    "np.array(p_time_delays).mean()"
   ],
   "metadata": {
    "collapsed": false,
    "pycharm": {
     "name": "#%%\n"
    }
   }
  },
  {
   "cell_type": "markdown",
   "source": [
    "## Exploring MIDI Degradation\n",
    "\n",
    "This part of the code explores ways to degrade a midi performance to create increasingly difficult performances to follow."
   ],
   "metadata": {
    "collapsed": false
   }
  },
  {
   "cell_type": "code",
   "execution_count": 35,
   "outputs": [],
   "source": [
    "import pandas as pd\n",
    "import numpy as np\n",
    "import partitura as pt\n",
    "from numpy.lib.recfunctions import unstructured_to_structured\n",
    "from mdtk.degradations import (\n",
    "    pitch_shift,\n",
    "    time_shift,\n",
    "    onset_shift,\n",
    "    offset_shift,\n",
    "    remove_note,\n",
    "    add_note,\n",
    ")"
   ],
   "metadata": {
    "collapsed": false
   }
  },
  {
   "cell_type": "code",
   "execution_count": 36,
   "outputs": [
    {
     "data": {
      "text/plain": "   onset_sec  duration_sec  onset_tick  duration_tick  pitch  velocity  track  \\\n0      0.125         0.125           2              2     60        64      0   \n1      0.250         0.125           4              2     62        64      0   \n2      0.375         0.125           6              2     64        64      0   \n3      0.500         0.125           8              2     65        64      0   \n4      0.625         0.125          10              2     62        64      0   \n\n   channel      id  \n0        1  P00_n0  \n1        1  P00_n1  \n2        1  P00_n2  \n3        1  P00_n3  \n4        1  P00_n4  ",
      "text/html": "<div>\n<style scoped>\n    .dataframe tbody tr th:only-of-type {\n        vertical-align: middle;\n    }\n\n    .dataframe tbody tr th {\n        vertical-align: top;\n    }\n\n    .dataframe thead th {\n        text-align: right;\n    }\n</style>\n<table border=\"1\" class=\"dataframe\">\n  <thead>\n    <tr style=\"text-align: right;\">\n      <th></th>\n      <th>onset_sec</th>\n      <th>duration_sec</th>\n      <th>onset_tick</th>\n      <th>duration_tick</th>\n      <th>pitch</th>\n      <th>velocity</th>\n      <th>track</th>\n      <th>channel</th>\n      <th>id</th>\n    </tr>\n  </thead>\n  <tbody>\n    <tr>\n      <th>0</th>\n      <td>0.125</td>\n      <td>0.125</td>\n      <td>2</td>\n      <td>2</td>\n      <td>60</td>\n      <td>64</td>\n      <td>0</td>\n      <td>1</td>\n      <td>P00_n0</td>\n    </tr>\n    <tr>\n      <th>1</th>\n      <td>0.250</td>\n      <td>0.125</td>\n      <td>4</td>\n      <td>2</td>\n      <td>62</td>\n      <td>64</td>\n      <td>0</td>\n      <td>1</td>\n      <td>P00_n1</td>\n    </tr>\n    <tr>\n      <th>2</th>\n      <td>0.375</td>\n      <td>0.125</td>\n      <td>6</td>\n      <td>2</td>\n      <td>64</td>\n      <td>64</td>\n      <td>0</td>\n      <td>1</td>\n      <td>P00_n2</td>\n    </tr>\n    <tr>\n      <th>3</th>\n      <td>0.500</td>\n      <td>0.125</td>\n      <td>8</td>\n      <td>2</td>\n      <td>65</td>\n      <td>64</td>\n      <td>0</td>\n      <td>1</td>\n      <td>P00_n3</td>\n    </tr>\n    <tr>\n      <th>4</th>\n      <td>0.625</td>\n      <td>0.125</td>\n      <td>10</td>\n      <td>2</td>\n      <td>62</td>\n      <td>64</td>\n      <td>0</td>\n      <td>1</td>\n      <td>P00_n4</td>\n    </tr>\n  </tbody>\n</table>\n</div>"
     },
     "execution_count": 36,
     "metadata": {},
     "output_type": "execute_result"
    }
   ],
   "source": [
    "performance = pt.load_performance(\"/home/manos/Desktop/JKU/data/midi/inventions/BachJS-BWV772.mid\")\n",
    "note_array = performance.note_array()\n",
    "ppq = performance[0].ppq\n",
    "mpq = performance[0].mpq\n",
    "odf = pd.DataFrame(note_array)\n",
    "odf.head()"
   ],
   "metadata": {
    "collapsed": false
   }
  },
  {
   "cell_type": "code",
   "execution_count": 37,
   "outputs": [],
   "source": [
    "df = pd.DataFrame(\n",
    "    {\n",
    "        \"onset\": note_array[\"onset_tick\"],\n",
    "        \"pitch\": note_array[\"pitch\"],\n",
    "        \"dur\": note_array[\"duration_tick\"],\n",
    "        \"velocity\": note_array[\"velocity\"],\n",
    "        \"track\": note_array[\"track\"]\n",
    "    }\n",
    ")\n",
    "df.head()\n",
    "\n",
    "\n",
    "min_pitch = 36  # cant shift lower than 60\n",
    "max_pitch = 110\n",
    "distribution = [1, 0, 1, 0, 1, 0, 1]  # only shift min 2nd or maj 3rd up/down"
   ],
   "metadata": {
    "collapsed": false
   }
  },
  {
   "cell_type": "code",
   "execution_count": 43,
   "outputs": [
    {
     "data": {
      "text/plain": "   onset  track  pitch  dur  velocity      id  channel  onset_sec  \\\n0      2      0     60    2        64  P00_n0        1      0.125   \n1      4      0     62    2        64  P00_n1        1      0.250   \n2      6      0     64    2        64  P00_n2        1      0.375   \n3      8      0     65    2        64  P00_n3        1      0.500   \n4     10      0     62    2        64  P00_n4        1      0.625   \n\n   duration_sec  \n0         0.125  \n1         0.125  \n2         0.125  \n3         0.125  \n4         0.125  ",
      "text/html": "<div>\n<style scoped>\n    .dataframe tbody tr th:only-of-type {\n        vertical-align: middle;\n    }\n\n    .dataframe tbody tr th {\n        vertical-align: top;\n    }\n\n    .dataframe thead th {\n        text-align: right;\n    }\n</style>\n<table border=\"1\" class=\"dataframe\">\n  <thead>\n    <tr style=\"text-align: right;\">\n      <th></th>\n      <th>onset</th>\n      <th>track</th>\n      <th>pitch</th>\n      <th>dur</th>\n      <th>velocity</th>\n      <th>id</th>\n      <th>channel</th>\n      <th>onset_sec</th>\n      <th>duration_sec</th>\n    </tr>\n  </thead>\n  <tbody>\n    <tr>\n      <th>0</th>\n      <td>2</td>\n      <td>0</td>\n      <td>60</td>\n      <td>2</td>\n      <td>64</td>\n      <td>P00_n0</td>\n      <td>1</td>\n      <td>0.125</td>\n      <td>0.125</td>\n    </tr>\n    <tr>\n      <th>1</th>\n      <td>4</td>\n      <td>0</td>\n      <td>62</td>\n      <td>2</td>\n      <td>64</td>\n      <td>P00_n1</td>\n      <td>1</td>\n      <td>0.250</td>\n      <td>0.125</td>\n    </tr>\n    <tr>\n      <th>2</th>\n      <td>6</td>\n      <td>0</td>\n      <td>64</td>\n      <td>2</td>\n      <td>64</td>\n      <td>P00_n2</td>\n      <td>1</td>\n      <td>0.375</td>\n      <td>0.125</td>\n    </tr>\n    <tr>\n      <th>3</th>\n      <td>8</td>\n      <td>0</td>\n      <td>65</td>\n      <td>2</td>\n      <td>64</td>\n      <td>P00_n3</td>\n      <td>1</td>\n      <td>0.500</td>\n      <td>0.125</td>\n    </tr>\n    <tr>\n      <th>4</th>\n      <td>10</td>\n      <td>0</td>\n      <td>62</td>\n      <td>2</td>\n      <td>64</td>\n      <td>P00_n4</td>\n      <td>1</td>\n      <td>0.625</td>\n      <td>0.125</td>\n    </tr>\n  </tbody>\n</table>\n</div>"
     },
     "execution_count": 43,
     "metadata": {},
     "output_type": "execute_result"
    }
   ],
   "source": [
    "deg_excerpt_1 = pitch_shift(\n",
    "    df,\n",
    "    min_pitch=min_pitch,\n",
    "    max_pitch=max_pitch,\n",
    "    distribution=distribution,\n",
    "    seed=42\n",
    ")\n",
    "deg_excerpt_1[\"id\"] = odf[\"id\"]\n",
    "deg_excerpt_1[\"channel\"] = odf[\"channel\"]\n",
    "deg_excerpt_1[\"onset_sec\"] = pt.utils.music.midi_ticks_to_seconds(deg_excerpt_1[\"onset\"].to_numpy(), mpq=mpq, ppq=ppq)\n",
    "deg_excerpt_1[\"duration_sec\"] = pt.utils.music.midi_ticks_to_seconds(deg_excerpt_1[\"dur\"].to_numpy(), mpq=mpq, ppq=ppq)\n",
    "deg_excerpt_1.head()"
   ],
   "metadata": {
    "collapsed": false
   }
  },
  {
   "cell_type": "code",
   "execution_count": 32,
   "outputs": [
    {
     "data": {
      "text/plain": "array([( 2, 0, 60, 2, 64, 'P00_n0', 1), ( 4, 0, 62, 2, 64, 'P00_n1', 1),\n       ( 6, 0, 64, 2, 64, 'P00_n2', 1), ( 8, 0, 65, 2, 64, 'P00_n3', 1),\n       (10, 0, 62, 2, 64, 'P00_n4', 1), (12, 0, 64, 2, 64, 'P00_n5', 1),\n       (14, 0, 60, 2, 64, 'P00_n6', 1), (16, 0, 67, 4, 64, 'P00_n7', 1),\n       (18, 1, 48, 2, 64, 'P01_n0', 1), (20, 0, 72, 4, 64, 'P01_n1', 1)],\n      dtype=[('onset', '<i8'), ('track', '<i8'), ('pitch', '<i8'), ('dur', '<i8'), ('velocity', '<i8'), ('id', 'O'), ('channel', '<i4')])"
     },
     "execution_count": 32,
     "metadata": {},
     "output_type": "execute_result"
    }
   ],
   "source": [],
   "metadata": {
    "collapsed": false
   }
  },
  {
   "cell_type": "code",
   "execution_count": 44,
   "outputs": [],
   "source": [
    "records = deg_excerpt_1.to_records(index=False)\n",
    "new_note_array = np.array(records, dtype = records.dtype.descr)\n",
    "ppart = pt.performance.PerformedPart.from_note_array(new_note_array, )\n",
    "pt.save_performance_midi(ppart, \"./artifacts/test.mid\")"
   ],
   "metadata": {
    "collapsed": false
   }
  }
 ],
 "metadata": {
  "kernelspec": {
   "display_name": "Python 3",
   "language": "python",
   "name": "python3"
  },
  "language_info": {
   "codemirror_mode": {
    "name": "ipython",
    "version": 2
   },
   "file_extension": ".py",
   "mimetype": "text/x-python",
   "name": "python",
   "nbconvert_exporter": "python",
   "pygments_lexer": "ipython2",
   "version": "2.7.6"
  }
 },
 "nbformat": 4,
 "nbformat_minor": 0
}